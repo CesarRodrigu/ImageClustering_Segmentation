{
 "cells": [
  {
   "cell_type": "markdown",
   "id": "4fd9d80d",
   "metadata": {},
   "source": [
    "# Práctica 3 Sistemas inteligentes Segmentación de imágenes mediante técnicas de agrupamiento\n",
    "## Hecho por César Rodríguez Villagrá\n",
    "\n",
    "En esta práctica se hace la implementación de la segmentación de imágenes mediante técnicas de agrupamiento.\n",
    "Las 3 técnicas que se van a utilizar son:\n",
    "- K-Means\n",
    "- Fuzzy C-Means (FCM)\n",
    "- Mixtura de Gausianas (MixGaus)\n",
    "\n",
    "Los resultados se encuentran también en la carpeta fotos, en el que cada algoritmo tiene su carpeta con los resultados obtenidos."
   ]
  },
  {
   "cell_type": "markdown",
   "id": "2ae5f2c3",
   "metadata": {},
   "source": [
    "## Implementación"
   ]
  },
  {
   "cell_type": "markdown",
   "id": "4ab66288",
   "metadata": {},
   "source": [
    "### Importaciones necesarias"
   ]
  },
  {
   "cell_type": "code",
   "execution_count": 1,
   "id": "11402750",
   "metadata": {},
   "outputs": [],
   "source": [
    "import matplotlib.pyplot as plt\n",
    "import numpy as np\n",
    "from skimage import io\n",
    "from sklearn.cluster import KMeans\n",
    "import skfuzzy as fuzz\n",
    "from sklearn.mixture import GaussianMixture\n",
    "import os"
   ]
  },
  {
   "cell_type": "markdown",
   "id": "14eec864",
   "metadata": {},
   "source": [
    "### Funciones de aplicación de cada algoritmo\n",
    "Se definen las funciones con los parámetros que se van a aplicar en pasos posteriores."
   ]
  },
  {
   "cell_type": "code",
   "execution_count": 2,
   "id": "3f0df026",
   "metadata": {},
   "outputs": [],
   "source": [
    "def aplicarKMeans(imagen, numero_clusters: int, max_iteraciones: int):\n",
    "    \"\"\"Función para aplicar el algoritmo de K-Means sobre una imagen\n",
    "\n",
    "    Args:\n",
    "        imagen: la imagen a procesar\n",
    "        numero_clusters (int): el número de clusters necesarios\n",
    "        max_iteraciones (int): las máximas iteraciones para el algoritmo\n",
    "\n",
    "    Returns:\n",
    "        imagen: la imagen ya procesada por el método\n",
    "    \"\"\"\n",
    "    filas, columnas, canales = imagen.shape\n",
    "    imagen_reshape = imagen.reshape((filas * columnas, canales))\n",
    "\n",
    "    kmeans = KMeans(n_clusters=numero_clusters,\n",
    "                    max_iter=max_iteraciones, n_init='auto')\n",
    "    kmeans.fit(imagen_reshape)\n",
    "\n",
    "    etiquetas = kmeans.predict(imagen_reshape)\n",
    "    centros = kmeans.cluster_centers_\n",
    "    imagen_segmentada = centros[etiquetas].reshape(imagen.shape)\n",
    "\n",
    "    return imagen_segmentada.astype(np.uint8)\n",
    "\n",
    "\n",
    "def aplicarFCM(imagen, numero_grupos: int, max_iteraciones: int, m: float, err: float):\n",
    "    \"\"\"Función para aplicar el algoritmo de Fuzzy C-Means sobre una imagen\n",
    "\n",
    "    Args:\n",
    "        imagen: la imagen a procesar\n",
    "        numero_grupos (int): el número de grupos a aplicar\n",
    "        max_iteraciones (int): las máximas iteraciones para el algoritmo\n",
    "        m (float): valor de fuzzifier\n",
    "        err (float): error aceptable al realizar el proceso de minimización\n",
    "\n",
    "    Returns:\n",
    "        imagen: la imagen ya procesada por el método\n",
    "    \"\"\"\n",
    "    filas, columnas, canales = imagen.shape\n",
    "    imagen_reshape = imagen.reshape((filas * columnas, canales))\n",
    "\n",
    "    cntr, u, u0, d, jm, p, fpc = fuzz.cluster.cmeans(\n",
    "        imagen_reshape.T, numero_grupos, m, error=err, maxiter=max_iteraciones, init=None)\n",
    "\n",
    "    etiquetas = np.argmax(u, axis=0)\n",
    "    imagen_segmentada = etiquetas.reshape((filas, columnas))\n",
    "\n",
    "    return imagen_segmentada.astype(np.uint8)\n",
    "\n",
    "\n",
    "def aplicarMixGaus(imagen, num_gaus: int, tipo_covarianza, max_iteraciones: int):\n",
    "    \"\"\"Función para aplicar el algoritmo de Mixtura de Gausianas sobre una imagen\n",
    "\n",
    "    Args:\n",
    "        imagen: la imagen a procesar\n",
    "        num_gaus (int): el número de gausianas que queremos aplicar\n",
    "        tipo_covarianza (str): tipo de la matriz de covarianza asociada a cada gausiana\n",
    "        max_iteraciones (int): las máximas iteraciones para el algoritmo\n",
    "\n",
    "    Returns:\n",
    "        imagen: la imagen ya procesada por el método\n",
    "    \"\"\"\n",
    "    filas, columnas, canales = imagen.shape\n",
    "    imagen_reshape = imagen.reshape((filas * columnas, canales))\n",
    "\n",
    "    mg = GaussianMixture(n_components=num_gaus, covariance_type=tipo_covarianza,\n",
    "                         max_iter=max_iteraciones)\n",
    "\n",
    "    mg.fit(imagen_reshape)\n",
    "    etiquetas = mg.predict(imagen_reshape)\n",
    "    imagen_segmentada = etiquetas.reshape((filas, columnas))\n",
    "\n",
    "    return imagen_segmentada.astype(np.uint8)"
   ]
  },
  {
   "cell_type": "markdown",
   "id": "edb6bc19",
   "metadata": {},
   "source": [
    "### K-Means\n",
    "En este algoritmo se va a variar varios parámetros en la aplicación del algoritmo, en este caso:\n",
    "- El **número de grupos** entre los que se va a segmentar la imagen.\n",
    "- El **número máximo de iteraciones** que puede realizar el algortimo para encontrar el resultado.\n",
    "\n",
    "En este caso se va a realizar las pruebas con valores de cluster entre 2 y 6, ya que entre ese rango contiene los distintos tipos de colores más predominantes en la imagen, para que los pueda separar.\n",
    "También se realizará con unas iteraciones máximas entre 100 y 500, valores equilibrados entre unos resultados aceptables y un tiempo de cálculo no muy elevado, ya que este valor es el número máximo de ajustes que hace a los puntos, si este número es menor al óptimo puede generar un resultado poco óptimo. Este número es un criterio para parar de ejecutar del algoritmo, otro es cuando entre iteraciones no cambian mucho los resultados."
   ]
  },
  {
   "cell_type": "code",
   "execution_count": null,
   "id": "f6be8272",
   "metadata": {},
   "outputs": [],
   "source": [
    "ruta = \"./Fotos/KMeans/\"\n",
    "if not os.path.exists(ruta):\n",
    "    os.makedirs(ruta)\n",
    "\n",
    "imageA = 'Colorful'\n",
    "imageB = 'Keyboard'\n",
    "imageC = 'PoolBar'\n",
    "\n",
    "imagesName = [imageA, imageB, imageC]\n",
    "\n",
    "for imagenN in imagesName:\n",
    "    imagen = io.imread(imagenN+'.jpg')\n",
    "    plt.figure()\n",
    "    plt.imshow(imagen)\n",
    "    plt.title('Imagen base: '+imagenN+' para aplicar K-Means')\n",
    "    plt.axis('off')\n",
    "\n",
    "    n_clusters = [2, 3, 4, 5, 6]\n",
    "    nmax_iteraciones = [100, 200, 300, 400, 500]\n",
    "\n",
    "    fig, ax = plt.subplots(nrows=len(n_clusters), ncols=len(\n",
    "        nmax_iteraciones), figsize=(21, 15))\n",
    "\n",
    "    for fila in range(len(n_clusters)):\n",
    "        for columna in range(len(nmax_iteraciones)):\n",
    "            ax[fila][columna].imshow(aplicarKMeans(\n",
    "                imagen, n_clusters[fila], nmax_iteraciones[columna]))\n",
    "            ax[fila][columna].set_title(str(n_clusters[fila]) + ' clusters con ' +\n",
    "                                        str(nmax_iteraciones[columna]) + ' itermáx')\n",
    "            ax[fila][columna].axis('off')\n",
    "    fig.tight_layout()\n",
    "    plt.savefig(ruta+\"RepresentacionKMeans\"+imagenN+\".jpg\")\n",
    "    plt.show()"
   ]
  },
  {
   "cell_type": "markdown",
   "id": "4ac5f572",
   "metadata": {},
   "source": [
    "Como se puede ver en las 3 imágenes procesadas, cuantos más grupos se apliquen mejor hace la diferenciación. Por ejemplo la primera imagen a partir de 5 grupos no tendría cambio, ya que es una imagen con unos colores muy marcados y con muy poco ruido o incluso sin ruido.\n",
    "En la segunda imagen logra también un muy buen clusterizado, en cambio en la tercera imagen al tener más elementos diferenciables con 6 clusters se puede quedar corto, dependiendo de la precisión que queremos tener, aunque con 5-6 clusters ya se puede ver una aceptable agrupación de los elementos. Dependiendo de la cantidad de grupos que se quiera manejar hará la separación entre más elementos o menos."
   ]
  },
  {
   "cell_type": "markdown",
   "id": "22337d2b",
   "metadata": {},
   "source": [
    "### Fuzzy C-Means\n",
    "En este algoritmo se va a variar varios parámetros en la aplicación del algoritmo, en este caso:\n",
    "- El **número de grupos**.\n",
    "- El **número máximo de iteraciones** que puede realizar el algortimo para encontrar el resultado.\n",
    "- El parámetro **m** o **\"fuzzifier\"**, que controla la cantidad de solapamiento de un punto sobre distintos grupos, a un valor mayor, mayor será la difusión.\n",
    "- El **error** indica el valor que puede haber como máximo de diferencia entre 2 iteraciones para aceptar esa iteración como solución, a menor valor se obtiene mayor precisión pero necesitará más iteraciones para llegar a ese resultado.\n",
    "\n",
    "En este caso se va a ejecutar el algoritmo con2, 4 y 6 grupos, con 3, 30 y 100 iteraciones máximas, con valores m de 1.5 y 2 y con errores de 0.005 y 0.05.\n",
    "En este caso se han reducido los valores de los parámetros debido a la gran cantidad de tiempo que tarda en ejecutar.\n",
    "Los valores con más impacto en el tiempo de ejecución son el número máximo de iteraciones y el error, ya que son los parametros de convergencia que permiten parar antes al alagoritmo.\n",
    "Si el valor m es de valor 1 el resultado sería el mismo que el de k-means, porque no habría \"difusión\" entre grupos, por lo que he optado en utilizar valores entre 1 y 2."
   ]
  },
  {
   "cell_type": "code",
   "execution_count": null,
   "id": "f863268e",
   "metadata": {},
   "outputs": [],
   "source": [
    "ruta = \"./Fotos/FCM/\"\n",
    "if not os.path.exists(ruta):\n",
    "    os.makedirs(ruta)\n",
    "\n",
    "imageA = 'Colorful'\n",
    "imageB = 'Keyboard'\n",
    "imageC = 'PoolBar'\n",
    "\n",
    "imagesName = [imageA, imageB, imageC]\n",
    "\n",
    "for imagenN in imagesName:\n",
    "    imagen = io.imread(imagenN+'.jpg')\n",
    "    plt.figure()\n",
    "    plt.imshow(imagen)\n",
    "    plt.title('Imagen base: '+imagenN+' para aplicar Fuzzy C-Means')\n",
    "    plt.axis('off')\n",
    "\n",
    "    n_grupos = [2, 4, 6]\n",
    "    nmax_iteraciones = [3, 30, 100]\n",
    "    m_valor = [1.5, 2.0]\n",
    "    error_valor = [0.005, 0.05]\n",
    "    for m in m_valor:\n",
    "        for error in error_valor:\n",
    "            fig, ax = plt.subplots(nrows=len(n_grupos), ncols=len(\n",
    "                nmax_iteraciones), figsize=(21, 15))\n",
    "\n",
    "            for fila in range(len(n_grupos)):\n",
    "                for columna in range(len(nmax_iteraciones)):\n",
    "                    ax[fila][columna].imshow(aplicarFCM(\n",
    "                        imagen, n_grupos[fila], nmax_iteraciones[columna], m, error))\n",
    "                    ax[fila][columna].set_title(str(n_grupos[fila]) + ' clusters, ' +\n",
    "                                                str(nmax_iteraciones[columna]) + ' itermáx, ' +\n",
    "                                                str(m) + ' m-valor, ' +\n",
    "                                                str(error) + ' error')\n",
    "                    ax[fila][columna].axis('off')\n",
    "            fig.tight_layout()\n",
    "            plt.savefig(ruta+\"RepresentacionFCM\"+imagenN + 'm' +\n",
    "                        str(m)+'error'+str(error)+\".jpg\")\n",
    "            plt.show()"
   ]
  },
  {
   "cell_type": "markdown",
   "id": "07e3ac57",
   "metadata": {},
   "source": [
    "Debido a la cantidad de parámetros que se han comparado, al número máximo de iteraciones y de error y probablemente la implementación del algortimo ha tenido un tiempo de ejecución elevado, de 1 hora aproximadamente.\n",
    "\n",
    "En la primera imagen se hace una división parecida al k-means pero difusa y menos exacta. El cambio del parámetro m no influye mucho entre 1.5 y 2, aunque tiene algunos cambios visibles.\n",
    "\n",
    "En la segunda imagen no se aprecia/realiza la clusterización de los distintos colores de las letras(solo se puede diferenciar facilmente con 6 clusteres, 100 it, 1.5 de m y 0.05 de error), aunque nos proporciona detalles de las teclas, en el que en la imagen orginal parecen todas las teclas \"iguales\", pero después del procesado se puede apreciar las sombras y el ruido.\n",
    "\n",
    "En la última imagen se puede apreciar mejor las zonas que pertenecen a varios grupos, como puede ver las sombras y las luces.\n",
    "\n",
    "En todas las imágenes se puede apreciar que cuando se tiene 3 iteraciones máximas es da un resultado impreciso."
   ]
  },
  {
   "cell_type": "markdown",
   "id": "d403f7a7",
   "metadata": {},
   "source": [
    "### Mixtura de Gausianas\n",
    "En este algoritmo se va a variar varios parámetros en la aplicación del algoritmo, en este caso:\n",
    "- El **número de gausianas**.\n",
    "- El **número máximo de iteraciones** que puede realizar el algortimo para encontrar el resultado.\n",
    "- **Tipo de covarianza de la matriz**, en este caso o diag o full\n",
    "\n",
    "Se va a realizar la ejecución con 3, 5 y 6 gausianas, con iteraciones entre 75 y 150, con matrices de covarianza diagonal y completa."
   ]
  },
  {
   "cell_type": "code",
   "execution_count": null,
   "id": "f6a15619",
   "metadata": {},
   "outputs": [],
   "source": [
    "ruta = \"./Fotos/MixGaus/\"\n",
    "if not os.path.exists(ruta):\n",
    "    os.makedirs(ruta)\n",
    "\n",
    "imageA = 'Colorful'\n",
    "imageB = 'Keyboard'\n",
    "imageC = 'PoolBar'\n",
    "\n",
    "imagesName = [imageA, imageB, imageC]\n",
    "\n",
    "for imagenN in imagesName:\n",
    "    imagen = io.imread(imagenN+'.jpg')\n",
    "    plt.figure()\n",
    "    plt.imshow(imagen)\n",
    "    plt.title('Imagen base: '+imagenN+' para aplicar Mixtura de gausianas')\n",
    "    plt.axis('off')\n",
    "\n",
    "    num_gaus = [3, 5, 6]\n",
    "    nmax_iteraciones = [75, 100, 150]\n",
    "    tipo_covarianza = ['diag', 'full']\n",
    "\n",
    "    for tipo in tipo_covarianza:\n",
    "        fig, ax = plt.subplots(nrows=len(num_gaus), ncols=len(\n",
    "            nmax_iteraciones), figsize=(21, 15))\n",
    "\n",
    "        for fila in range(len(num_gaus)):\n",
    "            for columna in range(len(nmax_iteraciones)):\n",
    "                ax[fila][columna].imshow(aplicarMixGaus(\n",
    "                    imagen, num_gaus[fila], tipo, nmax_iteraciones[columna]))\n",
    "                ax[fila][columna].set_title(str(num_gaus[fila]) + ' gausianas con ' +\n",
    "                                            str(nmax_iteraciones[columna]) + ' itermáx '+tipo)\n",
    "                ax[fila][columna].axis('off')\n",
    "        fig.tight_layout()\n",
    "        plt.savefig(ruta+\"RepresentacionMixGaus\"+tipo+imagenN+\".jpg\")\n",
    "        plt.show()"
   ]
  },
  {
   "cell_type": "markdown",
   "id": "ee3a4e19",
   "metadata": {},
   "source": [
    "En la primera imagen con el tipo de covarianza diagonal obtiene resultados alejados a la imagen real, algo que soluciona el modo full, en el que hace la mejor la diferencicación de la imagen.\n",
    "\n",
    "En cambio en la segunda imagen muestra resultados con menos ruido que el modo full.\n",
    "\n",
    "En la tercera imagen la distinción entre objetos es más inexacta, aunque realiza la distinción de las zonas más predominantes.\n",
    "\n",
    "Entre los distintos tipos de covarianza de las matrices se puede observar un cambio entre ellos, pero dependiendo de la imagen produce mejores o peores resultados, en otros casos se tiene que eveluar qué tipo es mejor en ese caso.\n",
    "Otra cosa reseñable es que como ya se ha dicho anteriormente cuantas menos iteraciones máximas tengan pueden generar resultados más inexactos, si se quiere mejores resultados se recomiendaría subir este valor al máximo posible computacionalmente con un tiempo aceptable."
   ]
  },
  {
   "cell_type": "markdown",
   "id": "efeb8c55",
   "metadata": {},
   "source": [
    "## Conclusiones"
   ]
  },
  {
   "cell_type": "markdown",
   "id": "e7eeb84b",
   "metadata": {},
   "source": [
    "En los 3 métodos vistos en esta práctica se puede apreciar las diferencias entre ellos y los distintos ajustes que se pueden hacer a cada uno.\n",
    "Para cada imagen que se quiera segmentar habría que hacer un miniestudio para ver qué parámetros son los más adecuados para los reultados que queramos, incluyendo la selección del método más preciso para ese caso y los distintos parámetros.\n",
    "Otro factor a condiderar es el tipo de la imagen, si tiene sombras, ruido, luces, distintos tipos de objetos etc.\n",
    "\n",
    "En este caso, lo más reseñable es que en la primera imagen para poder separar los colores con más precisión ha sido kmeans, en la segunda imagen dependiendo la información que se quiera extraer, se podrían utilizar los 3 métodos. Y en la tercera imagen lo más recomendable sería utilizar FCM. Otro aspecto clave es la identificación de la cantidad de los grupos/clusters/gausianas que según el caso debe variar.\n",
    "\n",
    "Como conclusión final, en esta práctica se puede ver las distintas capacidades que pueden tener los métodos vistos, y queda a criterio del programador cuál aplicar y con qué parámetros a cada imagen específica, dependiendo de la información que se quiera extraer de ella y los recursos disponibles (tiempo y velocidad de computación principalmente)."
   ]
  }
 ],
 "metadata": {
  "kernelspec": {
   "display_name": "Python 3 (ipykernel)",
   "language": "python",
   "name": "python3"
  },
  "language_info": {
   "codemirror_mode": {
    "name": "ipython",
    "version": 3
   },
   "file_extension": ".py",
   "mimetype": "text/x-python",
   "name": "python",
   "nbconvert_exporter": "python",
   "pygments_lexer": "ipython3",
   "version": "3.11.5"
  }
 },
 "nbformat": 4,
 "nbformat_minor": 5
}
